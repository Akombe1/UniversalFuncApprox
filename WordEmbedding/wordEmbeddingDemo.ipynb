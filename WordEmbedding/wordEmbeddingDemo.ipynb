{
 "cells": [
  {
   "cell_type": "markdown",
   "metadata": {},
   "source": [
    "# Word Embedding Demo"
   ]
  },
  {
   "cell_type": "code",
   "execution_count": null,
   "metadata": {
    "vscode": {
     "languageId": "plaintext"
    }
   },
   "outputs": [],
   "source": [
    "import torch\n",
    "import torch.nn as nn\n",
    "import torch.optim as optim\n",
    "\n",
    "# Define a small vocabulary\n",
    "vocab = [\"i\", \"love\", \"deep\", \"learning\", \"pytorch\"]\n",
    "vocab_size = len(vocab)\n",
    "\n",
    "# Map each word to an index\n",
    "word_to_idx = {word: i for i, word in enumerate(vocab)}\n",
    "idx_to_word = {i: word for word, i in word_to_idx.items()}\n",
    "\n",
    "# Create a small set of training phrases\n",
    "training_phrases = [\n",
    "    [\"i\", \"love\", \"deep\", \"learning\"],\n",
    "    [\"i\", \"love\", \"pytorch\"],\n",
    "    [\"deep\", \"learning\", \"i\", \"love\"]\n",
    "]"
   ]
  },
  {
   "cell_type": "code",
   "execution_count": null,
   "metadata": {
    "vscode": {
     "languageId": "plaintext"
    }
   },
   "outputs": [],
   "source": [
    "def make_one_hot_vector(word_index, vocab_size):\n",
    "    \"\"\"Create a one-hot vector for a given word index.\"\"\"\n",
    "    vec = torch.zeros(vocab_size)\n",
    "    vec[word_index] = 1.0\n",
    "    return vec\n",
    "\n",
    "training_data = []\n",
    "for phrase in training_phrases:\n",
    "    for i in range(len(phrase) - 1):\n",
    "        current_word = phrase[i]\n",
    "        next_word = phrase[i + 1]\n",
    "        \n",
    "        current_word_idx = word_to_idx[current_word]\n",
    "        next_word_idx = word_to_idx[next_word]\n",
    "        \n",
    "        # One-hot for input, index for output label\n",
    "        input_vec = make_one_hot_vector(current_word_idx, vocab_size)\n",
    "        training_data.append((input_vec, next_word_idx))\n",
    "\n",
    "print(\"Sample training data (input vector, target index):\")\n",
    "for i in range(3):\n",
    "    print(training_data[i])"
   ]
  },
  {
   "cell_type": "code",
   "execution_count": null,
   "metadata": {
    "vscode": {
     "languageId": "plaintext"
    }
   },
   "outputs": [],
   "source": [
    "class WordEmbeddingModel(nn.Module):\n",
    "    def __init__(self, vocab_size, embedding_dim):\n",
    "        super(WordEmbeddingModel, self).__init__()\n",
    "        self.embedding_dim = embedding_dim\n",
    "        \n",
    "        # First linear layer: from one-hot to embedding\n",
    "        self.fc1 = nn.Linear(vocab_size, embedding_dim, bias=False)\n",
    "        \n",
    "        # Second linear layer: from embedding to vocab-size\n",
    "        self.fc2 = nn.Linear(embedding_dim, vocab_size, bias=False)\n",
    "        \n",
    "    def forward(self, x):\n",
    "        \"\"\"\n",
    "        Forward pass:\n",
    "          x: one-hot vector of shape (batch_size, vocab_size)\n",
    "        Returns:\n",
    "          logits: unnormalized scores of shape (batch_size, vocab_size)\n",
    "        \"\"\"\n",
    "        # x -> embedding\n",
    "        emb = self.fc1(x)           # shape: (batch_size, embedding_dim)\n",
    "        emb = torch.relu(emb)       # Non-linearity\n",
    "        \n",
    "        # embedding -> distribution over vocab\n",
    "        logits = self.fc2(emb)      # shape: (batch_size, vocab_size)\n",
    "        return logits"
   ]
  },
  {
   "cell_type": "code",
   "execution_count": null,
   "metadata": {
    "vscode": {
     "languageId": "plaintext"
    }
   },
   "outputs": [],
   "source": [
    "# Hyperparameters\n",
    "embedding_dim = 4\n",
    "learning_rate = 0.01\n",
    "num_epochs = 100\n",
    "\n",
    "# Initialize the model, loss, and optimizer\n",
    "model = WordEmbeddingModel(vocab_size, embedding_dim)\n",
    "criterion = nn.CrossEntropyLoss()  # suitable for classification\n",
    "optimizer = optim.SGD(model.parameters(), lr=learning_rate)\n",
    "\n",
    "# Training loop\n",
    "for epoch in range(num_epochs):\n",
    "    total_loss = 0.0\n",
    "    \n",
    "    for input_vec, target_idx in training_data:\n",
    "        # Reshape input to (batch_size=1, vocab_size)\n",
    "        input_vec = input_vec.unsqueeze(0)\n",
    "        target_idx = torch.tensor([target_idx])  # shape: (1,)\n",
    "        \n",
    "        # Forward pass\n",
    "        logits = model(input_vec)\n",
    "        \n",
    "        # Compute loss\n",
    "        loss = criterion(logits, target_idx)\n",
    "        \n",
    "        # Backward pass\n",
    "        optimizer.zero_grad()\n",
    "        loss.backward()\n",
    "        optimizer.step()\n",
    "        \n",
    "        total_loss += loss.item()\n",
    "    \n",
    "    if (epoch+1) % 10 == 0:\n",
    "        print(f\"Epoch [{epoch+1}/{num_epochs}], Loss: {total_loss:.4f}\")\n"
   ]
  },
  {
   "cell_type": "code",
   "execution_count": null,
   "metadata": {
    "vscode": {
     "languageId": "plaintext"
    }
   },
   "outputs": [],
   "source": [
    "print(\"Learned Embeddings (fc1.weight):\")\n",
    "print(model.fc1.weight.data)  # shape: (embedding_dim, vocab_size)\n",
    "\n",
    "# Example: embedding for the word \"i\"\n",
    "i_embedding = model.fc1.weight.data[:, word_to_idx[\"i\"]]\n",
    "print(\"\\nEmbedding for the word 'i':\", i_embedding)"
   ]
  },
  {
   "cell_type": "code",
   "execution_count": null,
   "metadata": {
    "vscode": {
     "languageId": "plaintext"
    }
   },
   "outputs": [],
   "source": [
    "def predict_next_word(model, word):\n",
    "    # Convert word to one-hot\n",
    "    input_index = word_to_idx[word]\n",
    "    input_vec = make_one_hot_vector(input_index, vocab_size)\n",
    "    input_vec = input_vec.unsqueeze(0)  # shape: (1, vocab_size)\n",
    "    \n",
    "    # Forward pass\n",
    "    with torch.no_grad():\n",
    "        logits = model(input_vec)  # shape: (1, vocab_size)\n",
    "        predicted_idx = torch.argmax(logits, dim=1).item()\n",
    "    return idx_to_word[predicted_idx]\n",
    "\n",
    "test_words = [\"i\", \"love\", \"deep\", \"learning\", \"pytorch\"]\n",
    "for w in test_words:\n",
    "    next_w = predict_next_word(model, w)\n",
    "    print(f\"Word '{w}' -> Predicted next word: '{next_w}'\")"
   ]
  }
 ],
 "metadata": {
  "language_info": {
   "name": "python"
  }
 },
 "nbformat": 4,
 "nbformat_minor": 2
}
