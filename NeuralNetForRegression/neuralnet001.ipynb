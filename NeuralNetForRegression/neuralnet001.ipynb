{
 "cells": [
  {
   "cell_type": "markdown",
   "metadata": {},
   "source": [
    "# Universal Function Neural Net"
   ]
  },
  {
   "cell_type": "code",
   "execution_count": null,
   "metadata": {
    "vscode": {
     "languageId": "plaintext"
    }
   },
   "outputs": [],
   "source": [
    "import torch\n",
    "import torch.nn as nn\n",
    "import torch.optim as optim\n",
    "import matplotlib.pyplot as plt\n",
    "import numpy as np\n",
    "\n",
    "# Generate some sample data (10 points)\n",
    "x_data = torch.linspace(-1, 1, 10).view(-1, 1)  # 10 x-values\n",
    "y_data = torch.sin(np.pi * x_data) + 0.1 * torch.randn_like(x_data)  # Noisy sine wave\n",
    "\n",
    "# Define a simple neural network\n",
    "class SimpleNN(nn.Module):\n",
    "    def __init__(self):\n",
    "        super(SimpleNN, self).__init__()\n",
    "        self.fc1 = nn.Linear(1, 10)  # Input layer to hidden layer\n",
    "        self.fc2 = nn.Linear(10, 10)  # Hidden layer\n",
    "        self.fc3 = nn.Linear(10, 1)   # Hidden layer to output\n",
    "        \n",
    "    def forward(self, x):\n",
    "        x = torch.relu(self.fc1(x))\n",
    "        x = torch.relu(self.fc2(x))\n",
    "        x = self.fc3(x)\n",
    "        return x\n",
    "\n",
    "# Instantiate the network, define loss and optimizer\n",
    "model = SimpleNN()\n",
    "criterion = nn.MSELoss()\n",
    "optimizer = optim.Adam(model.parameters(), lr=0.01)\n",
    "\n",
    "# Training loop\n",
    "num_epochs = 1000\n",
    "losses = []\n",
    "for epoch in range(num_epochs):\n",
    "    optimizer.zero_grad()\n",
    "    outputs = model(x_data)\n",
    "    loss = criterion(outputs, y_data)\n",
    "    loss.backward()\n",
    "    optimizer.step()\n",
    "    losses.append(loss.item())\n",
    "    \n",
    "    if (epoch+1) % 100 == 0:\n",
    "        print(f'Epoch [{epoch+1}/{num_epochs}], Loss: {loss.item():.4f}')\n",
    "\n",
    "# Save the trained model\n",
    "torch.save(model.state_dict(), 'simple_nn_model.pth')\n",
    "print('Model saved as simple_nn_model.pth')\n",
    "\n",
    "# Plot results\n",
    "x_test = torch.linspace(-1, 1, 100).view(-1, 1)  # Test points\n",
    "with torch.no_grad():\n",
    "    y_pred = model(x_test)\n",
    "\n",
    "plt.figure(figsize=(12, 5))\n",
    "plt.subplot(1, 2, 1)\n",
    "plt.scatter(x_data.numpy(), y_data.numpy(), label='Original Data', color='red')\n",
    "plt.plot(x_test.numpy(), y_pred.numpy(), label='Fitted Curve', color='blue')\n",
    "plt.legend()\n",
    "plt.title('Fitted Curve')\n",
    "\n",
    "plt.subplot(1, 2, 2)\n",
    "plt.plot(range(num_epochs), losses, label='Loss over Epochs', color='green')\n",
    "plt.xlabel('Epochs')\n",
    "plt.ylabel('Loss')\n",
    "plt.title('Training Loss')\n",
    "plt.legend()\n",
    "\n",
    "plt.show()"
   ]
  }
 ],
 "metadata": {
  "language_info": {
   "name": "python"
  }
 },
 "nbformat": 4,
 "nbformat_minor": 2
}
